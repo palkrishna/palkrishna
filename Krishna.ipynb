{
  "nbformat": 4,
  "nbformat_minor": 0,
  "metadata": {
    "colab": {
      "name": "Krishna",
      "provenance": [],
      "collapsed_sections": [],
      "authorship_tag": "ABX9TyMZx3LFjHhBEwG2V04QEZ2z",
      "include_colab_link": true
    },
    "kernelspec": {
      "name": "python3",
      "display_name": "Python 3"
    },
    "language_info": {
      "name": "python"
    }
  },
  "cells": [
    {
      "cell_type": "markdown",
      "metadata": {
        "id": "view-in-github",
        "colab_type": "text"
      },
      "source": [
        "<a href=\"https://colab.research.google.com/github/palkrishna/palkrishna/blob/main/Krishna.ipynb\" target=\"_parent\"><img src=\"https://colab.research.google.com/assets/colab-badge.svg\" alt=\"Open In Colab\"/></a>"
      ]
    },
    {
      "cell_type": "markdown",
      "source": [
        "Path loss\n"
      ],
      "metadata": {
        "id": "jd6GrGf17hOy"
      }
    },
    {
      "cell_type": "code",
      "source": [
        "import numpy as np\n",
        "from math import log10,sqrt\n",
        "import scipy.stats\n",
        "from random import randint\n",
        "def pathloss(linkType,f_c,d) :\n",
        "  bsAntGain = 8             # BS antenna gain 8 dBi \n",
        "  bsNoiseFigure = 7         # BS noise figure 7 dB \n",
        "  d2dAntGain = 5            # vehicle antenna gain 5 dBi\n",
        "  d2dNoiseFigure = 13       # vehicle noise figure 13 dB\n",
        "  if ((linkType).upper== 'V2V') :                                                            \n",
        "    if d<18:\n",
        "       pathloss= 38.77 + 20 * log10(d) + 20 * log10(f_c)       # LOS pathloss\n",
        "       PL_dB = -(np.random.randn()*3 + pathloss) + 2*d2dAntGain - d2dNoiseFigure \n",
        "    else :\n",
        "       pathloss = 36.85 + 30 * log10(d) + 18.9 * log10(f_c)    # NLOS pathloss \n",
        "       PL_dB = -(np.random.randn()*4 + pathloss) + 2*d2dAntGain - d2dNoiseFigure\n",
        "  \n",
        "  else :\n",
        "      pathloss =  32.4 + 20 * log10(f_c) + 30 * log10(d) \n",
        "      PL_dB = -(np.random.randn()*7.8 + pathloss) + d2dAntGain + bsAntGain - bsNoiseFigure \n",
        "  \n",
        "  return PL_dB"
      ],
      "metadata": {
        "id": "qB4lNFO2VM19"
      },
      "execution_count": 27,
      "outputs": []
    },
    {
      "cell_type": "markdown",
      "source": [
        "User Initialization"
      ],
      "metadata": {
        "id": "CXnjSwLaWASG"
      }
    },
    {
      "cell_type": "code",
      "source": [
        "def genDUE(numDUE):\n",
        "  d2dPos = []          # initilizer for vehicle position\n",
        "  indDUE = []\n",
        "  indDUE2 = [] \n",
        "  pproc2 = []\n",
        "  numLane = 4\n",
        "  laneWidth = 4\n",
        "  v = 50                   # velocity\n",
        "  d_avg = 2.5*v/3.6         # average inter-vehicle distance according to TR 36.885\n",
        "  radius = 500\n",
        "  disBstoHwy = 25           # in meters\n",
        "  d0 = sqrt(radius**2-disBstoHwy**2)\n",
        "  ###### generate all d2d positions and store in d2dPos\n",
        "  for ilane in range(numLane) :\n",
        "    npoints = np.random.poisson(2*d0/d_avg)\n",
        "    pproc = (np.random.randn(npoints)*2-1)*100                                      # horizontal coordinates\n",
        "    for i in range(len(pproc)) :\n",
        "      z=np.zeros((1,2))\n",
        "      z[0,0] = pproc[i]\n",
        "      z[0,1] = disBstoHwy+ilane*laneWidth\n",
        "      pproc2.append(z)\n",
        "  d2dPos = pproc2\n",
        "  numd2d = len(d2dPos)\n",
        "\n",
        "  indPerm = np.random.permutation(numd2d)\n",
        "  indDUE = indPerm[0:numDUE]\n",
        "  indDUE2 = np.zeros(numDUE)\n",
        "  for ii in range(numDUE)  : \n",
        "    ######### pair each element in indDUE with closet vehicle and store the index in indDUE2  ##############\n",
        "    minDist = 2*d0\n",
        "    tmpInd = 0\n",
        "    for iii in range(numd2d) :\n",
        "        if (abs(iii-indDUE)<1e-6).any() or (abs(iii-indDUE2)<1e-6).any() :                       # iii in indDUE or indDUE2 \n",
        "            continue\n",
        "        newDist = sqrt((d2dPos[indDUE[ii]][0][0]-d2dPos[iii][0][0])**2 + (d2dPos[indDUE[ii]][0][1]-d2dPos[iii][0][1])**2)\n",
        "        if newDist < minDist :\n",
        "            tmpInd = iii\n",
        "            minDist = newDist\n",
        "    indDUE2[ii] = tmpInd                              # the closest DUE pair\n",
        "  return d2dPos,indDUE,indDUE2\n",
        "\n",
        "def genCUE(xMin,xMax,yMin,yMax,numCUE) :\n",
        "  xDelta=xMax-xMin\n",
        "  yDelta=yMax-yMin\n",
        "  areaTotal=xDelta*yDelta\n",
        "  lambda0=100\n",
        "  numbPoints =scipy.stats.poisson( lambda0*areaTotal ).rvs()#Poisson number of points\n",
        "  xx = xDelta*scipy.stats.uniform.rvs(0,1,((numbPoints,1)))+xMin#x coordinates of Poisson points\n",
        "  yy = yDelta*scipy.stats.uniform.rvs(0,1,((numbPoints,1)))+yMin#y coordinates of Poisson points\n",
        "  x = []\n",
        "  y= []\n",
        "  for i in range(numCUE) :\n",
        "   x.append(xx[i])\n",
        "   y.append(yy[i])\n",
        "   return x,y\n"
      ],
      "metadata": {
        "id": "di49ZwM0WGV2"
      },
      "execution_count": 28,
      "outputs": []
    },
    {
      "cell_type": "markdown",
      "source": [
        "Main file"
      ],
      "metadata": {
        "id": "Zdcp2KHV0Pm5"
      }
    },
    {
      "cell_type": "code",
      "source": [
        "fc = 2                     # in GHz\n",
        "dB_noise = -114;           # noise power in dBm\n",
        "dB_Pd_max = 23            # d2d maximum power\n",
        "dB_Pc_max = 23              # CUE maximum power\n",
        "noise = 10**(dB_noise/10)\n",
        "Pd_max = 10**(dB_Pd_max/10)\n",
        "Pc_max = 10**(dB_Pc_max/10)\n",
        "numCUE = 200\n",
        "numV2V = 10\n",
        "coordCUE = np.zeros((numCUE,2))\n",
        "########## User Initialization #################\n",
        "x,y = genCUE(-500,25,-500,500,numCUE/2)\n",
        "x1,y1 = genCUE(41,500,-500,500,numCUE/2)\n",
        "for i in range(numCUE) :\n",
        "  if i < numCUE/2 :\n",
        "    coordCUE[i][0] = x[i]\n",
        "    coordCUE[i][1] = y[i]\n",
        "  else :\n",
        "    coordCUE[i][0] = x1[i]\n",
        "    coordCUE[i][1] = y1[i]\n",
        "\n",
        "d2dPos,indDUE,indDUE2 = genDUE(numV2V)\n",
        "indDUE = [int(i) for i in indDUE]\n",
        "indDUE2 = [int(i) for i in indDUE2]\n",
        "\n",
        "############### Resource Block allocation ####################\n",
        "queue = []\n",
        "for i in range(10000) :\n",
        "  if i%10 == 0 :\n",
        "    for V2Vuser in range(numV2V) :\n",
        "      if len(queue) < 500 :\n",
        "        dist = sqrt((d2dPos[indDUE[V2Vuser]][0][0] - d2dPos[indDUE2[V2Vuser]][0][0])**2 + (d2dPos[indDUE[V2Vuser]][0][1] - d2dPos[indDUE2[V2Vuser]][0][1])**2)\n",
        "        PL = pathloss('V2V',fc,dist)\n",
        "        PL = 10**(PL/10)\n",
        "        x = [10,PL,'V2V']\n",
        "        queue.append(x)\n",
        "\n",
        "  if i%20== 0 :\n",
        "    CUE_genpacket = []\n",
        "  numCUE_genpacket = np.random.poisson(7.2) \n",
        "  while i <  numCUE_genpacket :\n",
        "    CUE = randint(0,numCUE-1)\n",
        "    if CUE in  CUE_genpacket :\n",
        "      continue\n",
        "    else :\n",
        "      if len(queue) < 500 : \n",
        "       dist = sqrt(coordCUE[CUE][0]**2 + coordCUE[CUE][1]**2)\n",
        "       PL = pathloss('CUE',fc,dist)\n",
        "       PL = 10**(PL/10)\n",
        "       x = [10,PL,'V2V']\n",
        "       queue.append(x)\n",
        "\n"
      ],
      "metadata": {
        "id": "2h1-R2_M0apQ"
      },
      "execution_count": null,
      "outputs": []
    },
    {
      "cell_type": "code",
      "source": [
        "d2dPos,indDUE,indDUE2 = genDUE(10)\n",
        "#print(d2dPos)\n",
        "#print(indDUE)\n",
        "#print(indDUE2)\n",
        "indDUE = [int(i) for i in indDUE]\n",
        "indDUE2 = [int(i) for i in indDUE2]\n",
        "print(d2dPos[indDUE2[0]][0][1])\n",
        "\n"
      ],
      "metadata": {
        "colab": {
          "base_uri": "https://localhost:8080/"
        },
        "id": "4kVnwPg9ZkOH",
        "outputId": "3d57ada1-ae50-4fee-e823-42b7a3d65739"
      },
      "execution_count": 42,
      "outputs": [
        {
          "output_type": "stream",
          "name": "stdout",
          "text": [
            "25.0\n"
          ]
        }
      ]
    }
  ]
}